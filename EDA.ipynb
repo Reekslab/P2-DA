{
 "cells": [
  {
   "cell_type": "code",
   "execution_count": 1,
   "metadata": {},
   "outputs": [],
   "source": [
    "import pandas as pd\n",
    "import seaborn as sns\n",
    "from ydata_profiling import ProfileReport"
   ]
  },
  {
   "cell_type": "code",
   "execution_count": 2,
   "metadata": {},
   "outputs": [],
   "source": [
    "accesx100 = pd.read_csv(r\"Internet_Penetracion.csv\")"
   ]
  },
  {
   "cell_type": "code",
   "execution_count": 5,
   "metadata": {},
   "outputs": [
    {
     "data": {
      "text/html": [
       "<div>\n",
       "<style scoped>\n",
       "    .dataframe tbody tr th:only-of-type {\n",
       "        vertical-align: middle;\n",
       "    }\n",
       "\n",
       "    .dataframe tbody tr th {\n",
       "        vertical-align: top;\n",
       "    }\n",
       "\n",
       "    .dataframe thead th {\n",
       "        text-align: right;\n",
       "    }\n",
       "</style>\n",
       "<table border=\"1\" class=\"dataframe\">\n",
       "  <thead>\n",
       "    <tr style=\"text-align: right;\">\n",
       "      <th></th>\n",
       "      <th>Año</th>\n",
       "      <th>Trimestre</th>\n",
       "      <th>Provincia</th>\n",
       "      <th>Accesos por cada 100 hogares</th>\n",
       "    </tr>\n",
       "  </thead>\n",
       "  <tbody>\n",
       "    <tr>\n",
       "      <th>0</th>\n",
       "      <td>2022</td>\n",
       "      <td>3</td>\n",
       "      <td>Buenos Aires</td>\n",
       "      <td>78,11</td>\n",
       "    </tr>\n",
       "    <tr>\n",
       "      <th>1</th>\n",
       "      <td>2022</td>\n",
       "      <td>3</td>\n",
       "      <td>Capital Federal</td>\n",
       "      <td>122,28</td>\n",
       "    </tr>\n",
       "    <tr>\n",
       "      <th>2</th>\n",
       "      <td>2022</td>\n",
       "      <td>3</td>\n",
       "      <td>Catamarca</td>\n",
       "      <td>65,33</td>\n",
       "    </tr>\n",
       "    <tr>\n",
       "      <th>3</th>\n",
       "      <td>2022</td>\n",
       "      <td>3</td>\n",
       "      <td>Chaco</td>\n",
       "      <td>43,86</td>\n",
       "    </tr>\n",
       "    <tr>\n",
       "      <th>4</th>\n",
       "      <td>2022</td>\n",
       "      <td>3</td>\n",
       "      <td>Chubut</td>\n",
       "      <td>84,38</td>\n",
       "    </tr>\n",
       "  </tbody>\n",
       "</table>\n",
       "</div>"
      ],
      "text/plain": [
       "    Año  Trimestre        Provincia Accesos por cada 100 hogares\n",
       "0  2022          3     Buenos Aires                        78,11\n",
       "1  2022          3  Capital Federal                       122,28\n",
       "2  2022          3        Catamarca                        65,33\n",
       "3  2022          3            Chaco                        43,86\n",
       "4  2022          3           Chubut                        84,38"
      ]
     },
     "execution_count": 5,
     "metadata": {},
     "output_type": "execute_result"
    }
   ],
   "source": [
    "accesx100.head(5)"
   ]
  },
  {
   "cell_type": "code",
   "execution_count": 6,
   "metadata": {},
   "outputs": [
    {
     "name": "stdout",
     "output_type": "stream",
     "text": [
      "<class 'pandas.core.frame.DataFrame'>\n",
      "RangeIndex: 840 entries, 0 to 839\n",
      "Data columns (total 4 columns):\n",
      " #   Column                        Non-Null Count  Dtype \n",
      "---  ------                        --------------  ----- \n",
      " 0   Año                           840 non-null    int64 \n",
      " 1   Trimestre                     840 non-null    int64 \n",
      " 2   Provincia                     840 non-null    object\n",
      " 3   Accesos por cada 100 hogares  840 non-null    object\n",
      "dtypes: int64(2), object(2)\n",
      "memory usage: 26.4+ KB\n"
     ]
    }
   ],
   "source": [
    "accesx100.info()"
   ]
  },
  {
   "cell_type": "code",
   "execution_count": 3,
   "metadata": {},
   "outputs": [],
   "source": [
    "accesx100[\"Accesos por cada 100 hogares\"] = accesx100[\"Accesos por cada 100 hogares\"].str.replace(\",\" , \".\")"
   ]
  },
  {
   "cell_type": "code",
   "execution_count": 8,
   "metadata": {},
   "outputs": [
    {
     "data": {
      "text/plain": [
       "0       78.11\n",
       "1      122.28\n",
       "2       65.33\n",
       "3       43.86\n",
       "4       84.38\n",
       "        ...  \n",
       "835     28.94\n",
       "836     47.85\n",
       "837     16.31\n",
       "838     63.97\n",
       "839     33.42\n",
       "Name: Accesos por cada 100 hogares, Length: 840, dtype: object"
      ]
     },
     "execution_count": 8,
     "metadata": {},
     "output_type": "execute_result"
    }
   ],
   "source": [
    "accesx100[\"Accesos por cada 100 hogares\"]"
   ]
  },
  {
   "cell_type": "code",
   "execution_count": 4,
   "metadata": {},
   "outputs": [],
   "source": [
    "\n",
    "accesx100[\"Accesos por cada 100 hogares\"] = accesx100[\"Accesos por cada 100 hogares\"].astype(float)"
   ]
  },
  {
   "cell_type": "code",
   "execution_count": 10,
   "metadata": {},
   "outputs": [
    {
     "name": "stdout",
     "output_type": "stream",
     "text": [
      "<class 'pandas.core.frame.DataFrame'>\n",
      "RangeIndex: 840 entries, 0 to 839\n",
      "Data columns (total 4 columns):\n",
      " #   Column                        Non-Null Count  Dtype  \n",
      "---  ------                        --------------  -----  \n",
      " 0   Año                           840 non-null    int64  \n",
      " 1   Trimestre                     840 non-null    int64  \n",
      " 2   Provincia                     840 non-null    object \n",
      " 3   Accesos por cada 100 hogares  840 non-null    float64\n",
      "dtypes: float64(1), int64(2), object(1)\n",
      "memory usage: 26.4+ KB\n"
     ]
    }
   ],
   "source": [
    "accesx100.info()"
   ]
  },
  {
   "cell_type": "code",
   "execution_count": 11,
   "metadata": {},
   "outputs": [],
   "source": [
    "reporte100 = ProfileReport(accesx100)"
   ]
  },
  {
   "cell_type": "code",
   "execution_count": null,
   "metadata": {},
   "outputs": [],
   "source": [
    "reporte100"
   ]
  },
  {
   "cell_type": "code",
   "execution_count": 5,
   "metadata": {},
   "outputs": [],
   "source": [
    "Interprov = pd.read_csv(r\"Internet_BAF por provincia.csv\")"
   ]
  },
  {
   "cell_type": "code",
   "execution_count": 14,
   "metadata": {},
   "outputs": [
    {
     "data": {
      "text/html": [
       "<div>\n",
       "<style scoped>\n",
       "    .dataframe tbody tr th:only-of-type {\n",
       "        vertical-align: middle;\n",
       "    }\n",
       "\n",
       "    .dataframe tbody tr th {\n",
       "        vertical-align: top;\n",
       "    }\n",
       "\n",
       "    .dataframe thead th {\n",
       "        text-align: right;\n",
       "    }\n",
       "</style>\n",
       "<table border=\"1\" class=\"dataframe\">\n",
       "  <thead>\n",
       "    <tr style=\"text-align: right;\">\n",
       "      <th></th>\n",
       "      <th>Año</th>\n",
       "      <th>Trimestre</th>\n",
       "      <th>Provincia</th>\n",
       "      <th>Banda ancha fija</th>\n",
       "      <th>Dial up</th>\n",
       "      <th>Total</th>\n",
       "    </tr>\n",
       "  </thead>\n",
       "  <tbody>\n",
       "    <tr>\n",
       "      <th>0</th>\n",
       "      <td>2022</td>\n",
       "      <td>3</td>\n",
       "      <td>Buenos Aires</td>\n",
       "      <td>4.715.469</td>\n",
       "      <td>6.199</td>\n",
       "      <td>4.721.668</td>\n",
       "    </tr>\n",
       "    <tr>\n",
       "      <th>1</th>\n",
       "      <td>2022</td>\n",
       "      <td>3</td>\n",
       "      <td>Capital Federal</td>\n",
       "      <td>1.545.534</td>\n",
       "      <td>2.145</td>\n",
       "      <td>1.547.679</td>\n",
       "    </tr>\n",
       "    <tr>\n",
       "      <th>2</th>\n",
       "      <td>2022</td>\n",
       "      <td>3</td>\n",
       "      <td>Catamarca</td>\n",
       "      <td>70.292</td>\n",
       "      <td>1</td>\n",
       "      <td>70.293</td>\n",
       "    </tr>\n",
       "    <tr>\n",
       "      <th>3</th>\n",
       "      <td>2022</td>\n",
       "      <td>3</td>\n",
       "      <td>Chaco</td>\n",
       "      <td>144.141</td>\n",
       "      <td>5</td>\n",
       "      <td>144.146</td>\n",
       "    </tr>\n",
       "    <tr>\n",
       "      <th>4</th>\n",
       "      <td>2022</td>\n",
       "      <td>3</td>\n",
       "      <td>Chubut</td>\n",
       "      <td>164.874</td>\n",
       "      <td>904</td>\n",
       "      <td>165.778</td>\n",
       "    </tr>\n",
       "  </tbody>\n",
       "</table>\n",
       "</div>"
      ],
      "text/plain": [
       "    Año  Trimestre        Provincia Banda ancha fija Dial up      Total\n",
       "0  2022          3     Buenos Aires        4.715.469   6.199  4.721.668\n",
       "1  2022          3  Capital Federal        1.545.534   2.145  1.547.679\n",
       "2  2022          3        Catamarca           70.292       1     70.293\n",
       "3  2022          3            Chaco          144.141       5    144.146\n",
       "4  2022          3           Chubut          164.874     904    165.778"
      ]
     },
     "execution_count": 14,
     "metadata": {},
     "output_type": "execute_result"
    }
   ],
   "source": [
    "Interprov.head(5)"
   ]
  },
  {
   "cell_type": "code",
   "execution_count": 15,
   "metadata": {},
   "outputs": [
    {
     "name": "stdout",
     "output_type": "stream",
     "text": [
      "<class 'pandas.core.frame.DataFrame'>\n",
      "RangeIndex: 840 entries, 0 to 839\n",
      "Data columns (total 6 columns):\n",
      " #   Column            Non-Null Count  Dtype \n",
      "---  ------            --------------  ----- \n",
      " 0   Año               840 non-null    int64 \n",
      " 1   Trimestre         840 non-null    int64 \n",
      " 2   Provincia         840 non-null    object\n",
      " 3   Banda ancha fija  840 non-null    object\n",
      " 4   Dial up           838 non-null    object\n",
      " 5   Total             840 non-null    object\n",
      "dtypes: int64(2), object(4)\n",
      "memory usage: 39.5+ KB\n"
     ]
    }
   ],
   "source": [
    "Interprov.info()"
   ]
  },
  {
   "cell_type": "code",
   "execution_count": 6,
   "metadata": {},
   "outputs": [
    {
     "name": "stderr",
     "output_type": "stream",
     "text": [
      "C:\\Users\\Rhica\\AppData\\Local\\Temp\\ipykernel_16112\\538145988.py:1: FutureWarning: The default value of regex will change from True to False in a future version. In addition, single character regular expressions will *not* be treated as literal strings when regex=True.\n",
      "  Interprov[\"Banda ancha fija\"] = Interprov[\"Banda ancha fija\"].str.replace(\".\" , \"\")\n",
      "C:\\Users\\Rhica\\AppData\\Local\\Temp\\ipykernel_16112\\538145988.py:2: FutureWarning: The default value of regex will change from True to False in a future version. In addition, single character regular expressions will *not* be treated as literal strings when regex=True.\n",
      "  Interprov[\"Dial up\"] = Interprov[\"Dial up\"].str.replace(\".\" , \"\")\n",
      "C:\\Users\\Rhica\\AppData\\Local\\Temp\\ipykernel_16112\\538145988.py:3: FutureWarning: The default value of regex will change from True to False in a future version. In addition, single character regular expressions will *not* be treated as literal strings when regex=True.\n",
      "  Interprov[\"Total\"] = Interprov[\"Total\"].str.replace(\".\" , \"\")\n"
     ]
    }
   ],
   "source": [
    "Interprov[\"Banda ancha fija\"] = Interprov[\"Banda ancha fija\"].str.replace(\".\" , \"\")\n",
    "Interprov[\"Dial up\"] = Interprov[\"Dial up\"].str.replace(\".\" , \"\")\n",
    "Interprov[\"Total\"] = Interprov[\"Total\"].str.replace(\".\" , \"\")"
   ]
  },
  {
   "cell_type": "code",
   "execution_count": 7,
   "metadata": {},
   "outputs": [],
   "source": [
    "Interprov[\"Dial up\"] = Interprov[\"Dial up\"].fillna(0)\n",
    "Interprov[\"Dial up\"] = Interprov[\"Dial up\"].replace(\"- 0\" , \"0\")"
   ]
  },
  {
   "cell_type": "code",
   "execution_count": 8,
   "metadata": {},
   "outputs": [],
   "source": [
    "Interprov[\"Banda ancha fija\"] = Interprov[\"Banda ancha fija\"].astype(int)\n",
    "Interprov[\"Dial up\"] = Interprov[\"Dial up\"].astype(int)\n",
    "Interprov[\"Total\"] = Interprov[\"Total\"].astype(int)"
   ]
  },
  {
   "cell_type": "code",
   "execution_count": 19,
   "metadata": {},
   "outputs": [
    {
     "name": "stdout",
     "output_type": "stream",
     "text": [
      "<class 'pandas.core.frame.DataFrame'>\n",
      "RangeIndex: 840 entries, 0 to 839\n",
      "Data columns (total 6 columns):\n",
      " #   Column            Non-Null Count  Dtype \n",
      "---  ------            --------------  ----- \n",
      " 0   Año               840 non-null    int64 \n",
      " 1   Trimestre         840 non-null    int64 \n",
      " 2   Provincia         840 non-null    object\n",
      " 3   Banda ancha fija  840 non-null    int32 \n",
      " 4   Dial up           840 non-null    int32 \n",
      " 5   Total             840 non-null    int32 \n",
      "dtypes: int32(3), int64(2), object(1)\n",
      "memory usage: 29.7+ KB\n"
     ]
    }
   ],
   "source": [
    "Interprov.info()"
   ]
  },
  {
   "cell_type": "code",
   "execution_count": 9,
   "metadata": {},
   "outputs": [],
   "source": [
    "interperiod = pd.read_csv(r\"Internet_BAF.csv\")"
   ]
  },
  {
   "cell_type": "code",
   "execution_count": 21,
   "metadata": {},
   "outputs": [
    {
     "data": {
      "text/html": [
       "<div>\n",
       "<style scoped>\n",
       "    .dataframe tbody tr th:only-of-type {\n",
       "        vertical-align: middle;\n",
       "    }\n",
       "\n",
       "    .dataframe tbody tr th {\n",
       "        vertical-align: top;\n",
       "    }\n",
       "\n",
       "    .dataframe thead th {\n",
       "        text-align: right;\n",
       "    }\n",
       "</style>\n",
       "<table border=\"1\" class=\"dataframe\">\n",
       "  <thead>\n",
       "    <tr style=\"text-align: right;\">\n",
       "      <th></th>\n",
       "      <th>Año</th>\n",
       "      <th>Trimestre</th>\n",
       "      <th>Banda ancha fija</th>\n",
       "      <th>Dial up</th>\n",
       "      <th>Total</th>\n",
       "      <th>Periodo</th>\n",
       "    </tr>\n",
       "  </thead>\n",
       "  <tbody>\n",
       "    <tr>\n",
       "      <th>0</th>\n",
       "      <td>2022</td>\n",
       "      <td>3</td>\n",
       "      <td>11.078.691</td>\n",
       "      <td>12.437</td>\n",
       "      <td>11.091.128</td>\n",
       "      <td>Jul-Sept 2022</td>\n",
       "    </tr>\n",
       "    <tr>\n",
       "      <th>1</th>\n",
       "      <td>2022</td>\n",
       "      <td>2</td>\n",
       "      <td>10.946.248</td>\n",
       "      <td>12.436</td>\n",
       "      <td>10.958.684</td>\n",
       "      <td>Abr-Jun 2022</td>\n",
       "    </tr>\n",
       "    <tr>\n",
       "      <th>2</th>\n",
       "      <td>2022</td>\n",
       "      <td>1</td>\n",
       "      <td>10.611.390</td>\n",
       "      <td>12.619</td>\n",
       "      <td>10.624.009</td>\n",
       "      <td>Ene-Mar 2022</td>\n",
       "    </tr>\n",
       "    <tr>\n",
       "      <th>3</th>\n",
       "      <td>2021</td>\n",
       "      <td>4</td>\n",
       "      <td>10.476.933</td>\n",
       "      <td>12.861</td>\n",
       "      <td>10.489.794</td>\n",
       "      <td>Oct-Dic 2021</td>\n",
       "    </tr>\n",
       "    <tr>\n",
       "      <th>4</th>\n",
       "      <td>2021</td>\n",
       "      <td>3</td>\n",
       "      <td>10.075.184</td>\n",
       "      <td>10.357</td>\n",
       "      <td>10.085.541</td>\n",
       "      <td>Jul-Sept 2021</td>\n",
       "    </tr>\n",
       "  </tbody>\n",
       "</table>\n",
       "</div>"
      ],
      "text/plain": [
       "    Año  Trimestre Banda ancha fija  Dial up       Total        Periodo\n",
       "0  2022          3       11.078.691   12.437  11.091.128  Jul-Sept 2022\n",
       "1  2022          2       10.946.248   12.436  10.958.684   Abr-Jun 2022\n",
       "2  2022          1       10.611.390   12.619  10.624.009   Ene-Mar 2022\n",
       "3  2021          4       10.476.933   12.861  10.489.794   Oct-Dic 2021\n",
       "4  2021          3       10.075.184   10.357  10.085.541  Jul-Sept 2021"
      ]
     },
     "execution_count": 21,
     "metadata": {},
     "output_type": "execute_result"
    }
   ],
   "source": [
    "interperiod.head(5)"
   ]
  },
  {
   "cell_type": "code",
   "execution_count": 22,
   "metadata": {},
   "outputs": [
    {
     "name": "stdout",
     "output_type": "stream",
     "text": [
      "<class 'pandas.core.frame.DataFrame'>\n",
      "RangeIndex: 35 entries, 0 to 34\n",
      "Data columns (total 6 columns):\n",
      " #   Column            Non-Null Count  Dtype  \n",
      "---  ------            --------------  -----  \n",
      " 0   Año               35 non-null     int64  \n",
      " 1   Trimestre         35 non-null     int64  \n",
      " 2   Banda ancha fija  35 non-null     object \n",
      " 3   Dial up           35 non-null     float64\n",
      " 4   Total             35 non-null     object \n",
      " 5   Periodo           35 non-null     object \n",
      "dtypes: float64(1), int64(2), object(3)\n",
      "memory usage: 1.8+ KB\n"
     ]
    }
   ],
   "source": [
    "interperiod.info()"
   ]
  },
  {
   "cell_type": "code",
   "execution_count": 10,
   "metadata": {},
   "outputs": [
    {
     "name": "stderr",
     "output_type": "stream",
     "text": [
      "C:\\Users\\Rhica\\AppData\\Local\\Temp\\ipykernel_16112\\2630920573.py:1: FutureWarning: The default value of regex will change from True to False in a future version. In addition, single character regular expressions will *not* be treated as literal strings when regex=True.\n",
      "  interperiod[\"Banda ancha fija\"] = interperiod[\"Banda ancha fija\"].str.replace(\".\" , \"\")\n",
      "C:\\Users\\Rhica\\AppData\\Local\\Temp\\ipykernel_16112\\2630920573.py:3: FutureWarning: The default value of regex will change from True to False in a future version. In addition, single character regular expressions will *not* be treated as literal strings when regex=True.\n",
      "  interperiod[\"Total\"] = interperiod[\"Total\"].str.replace(\".\" , \"\")\n"
     ]
    }
   ],
   "source": [
    "interperiod[\"Banda ancha fija\"] = interperiod[\"Banda ancha fija\"].str.replace(\".\" , \"\")\n",
    "interperiod[\"Dial up\"] = interperiod[\"Dial up\"].replace(\".\" , \"\")\n",
    "interperiod[\"Total\"] = interperiod[\"Total\"].str.replace(\".\" , \"\")"
   ]
  },
  {
   "cell_type": "code",
   "execution_count": 11,
   "metadata": {},
   "outputs": [],
   "source": [
    "interperiod[\"Banda ancha fija\"] = interperiod[\"Banda ancha fija\"].astype(int)\n",
    "interperiod[\"Dial up\"] = interperiod[\"Dial up\"].astype(int)\n",
    "interperiod[\"Total\"] = interperiod[\"Total\"].astype(int)"
   ]
  },
  {
   "cell_type": "code",
   "execution_count": 25,
   "metadata": {},
   "outputs": [
    {
     "name": "stdout",
     "output_type": "stream",
     "text": [
      "<class 'pandas.core.frame.DataFrame'>\n",
      "RangeIndex: 35 entries, 0 to 34\n",
      "Data columns (total 6 columns):\n",
      " #   Column            Non-Null Count  Dtype \n",
      "---  ------            --------------  ----- \n",
      " 0   Año               35 non-null     int64 \n",
      " 1   Trimestre         35 non-null     int64 \n",
      " 2   Banda ancha fija  35 non-null     int32 \n",
      " 3   Dial up           35 non-null     int32 \n",
      " 4   Total             35 non-null     int32 \n",
      " 5   Periodo           35 non-null     object\n",
      "dtypes: int32(3), int64(2), object(1)\n",
      "memory usage: 1.4+ KB\n"
     ]
    }
   ],
   "source": [
    "interperiod.info()"
   ]
  },
  {
   "cell_type": "code",
   "execution_count": 2,
   "metadata": {},
   "outputs": [],
   "source": [
    "intecno = pd.read_csv(r\"Internet_Accesos-por-tecnologia.csv\")"
   ]
  },
  {
   "cell_type": "code",
   "execution_count": 3,
   "metadata": {},
   "outputs": [
    {
     "name": "stderr",
     "output_type": "stream",
     "text": [
      "C:\\Users\\Rhica\\AppData\\Local\\Temp\\ipykernel_16244\\1642013251.py:1: FutureWarning: The default value of regex will change from True to False in a future version. In addition, single character regular expressions will *not* be treated as literal strings when regex=True.\n",
      "  intecno[\"ADSL\"] = intecno[\"ADSL\"].str.replace(\".\" , \"\")\n",
      "C:\\Users\\Rhica\\AppData\\Local\\Temp\\ipykernel_16244\\1642013251.py:2: FutureWarning: The default value of regex will change from True to False in a future version. In addition, single character regular expressions will *not* be treated as literal strings when regex=True.\n",
      "  intecno[\"Cablemodem\"] = intecno[\"Cablemodem\"].str.replace(\".\" , \"\")\n",
      "C:\\Users\\Rhica\\AppData\\Local\\Temp\\ipykernel_16244\\1642013251.py:3: FutureWarning: The default value of regex will change from True to False in a future version. In addition, single character regular expressions will *not* be treated as literal strings when regex=True.\n",
      "  intecno[\"Fibra óptica\"] = intecno[\"Fibra óptica\"].str.replace(\".\" , \"\")\n",
      "C:\\Users\\Rhica\\AppData\\Local\\Temp\\ipykernel_16244\\1642013251.py:6: FutureWarning: The default value of regex will change from True to False in a future version. In addition, single character regular expressions will *not* be treated as literal strings when regex=True.\n",
      "  intecno[\"Total\"] = intecno[\"Total\"].str.replace(\".\" , \"\")\n"
     ]
    }
   ],
   "source": [
    "intecno[\"ADSL\"] = intecno[\"ADSL\"].str.replace(\".\" , \"\")\n",
    "intecno[\"Cablemodem\"] = intecno[\"Cablemodem\"].str.replace(\".\" , \"\")\n",
    "intecno[\"Fibra óptica\"] = intecno[\"Fibra óptica\"].str.replace(\".\" , \"\")\n",
    "intecno[\"Wireless\"] = intecno[\"Wireless\"].replace(\".\" , \"\")\n",
    "intecno[\"Otros\"] = intecno[\"Otros\"].replace(\".\" , \"\")\n",
    "intecno[\"Total\"] = intecno[\"Total\"].str.replace(\".\" , \"\")\n"
   ]
  },
  {
   "cell_type": "code",
   "execution_count": 4,
   "metadata": {},
   "outputs": [
    {
     "name": "stdout",
     "output_type": "stream",
     "text": [
      "<class 'pandas.core.frame.DataFrame'>\n",
      "RangeIndex: 841 entries, 0 to 840\n",
      "Data columns (total 9 columns):\n",
      " #   Column        Non-Null Count  Dtype  \n",
      "---  ------        --------------  -----  \n",
      " 0   Año           841 non-null    object \n",
      " 1   Trimestre     841 non-null    object \n",
      " 2   Provincia     840 non-null    object \n",
      " 3   ADSL          840 non-null    object \n",
      " 4   Cablemodem    840 non-null    object \n",
      " 5   Fibra óptica  840 non-null    object \n",
      " 6   Wireless      840 non-null    float64\n",
      " 7   Otros         840 non-null    float64\n",
      " 8   Total         840 non-null    object \n",
      "dtypes: float64(2), object(7)\n",
      "memory usage: 59.3+ KB\n"
     ]
    }
   ],
   "source": [
    "intecno.info()"
   ]
  },
  {
   "cell_type": "code",
   "execution_count": 6,
   "metadata": {},
   "outputs": [],
   "source": [
    "intecno[\"ADSL\"] = intecno[\"ADSL\"].fillna(0)\n",
    "intecno[\"Cablemodem\"] = intecno[\"Cablemodem\"].fillna(0)\n",
    "intecno[\"Fibra óptica\"] = intecno[\"Fibra óptica\"].fillna(0)\n",
    "intecno[\"Wireless\"] = intecno[\"Wireless\"].fillna(0)\n",
    "intecno[\"Otros\"] = intecno[\"Otros\"].fillna(0)\n",
    "intecno[\"Total\"] = intecno[\"Total\"].fillna(0)\n",
    "\n"
   ]
  },
  {
   "cell_type": "code",
   "execution_count": 7,
   "metadata": {},
   "outputs": [],
   "source": [
    "intecno[\"ADSL\"] = intecno[\"ADSL\"].astype(int)\n",
    "intecno[\"Cablemodem\"] = intecno[\"Cablemodem\"].astype(int)\n",
    "intecno[\"Fibra óptica\"] = intecno[\"Fibra óptica\"].astype(int)\n",
    "intecno[\"Wireless\"] = intecno[\"Wireless\"].astype(int)\n",
    "intecno[\"Otros\"] = intecno[\"Otros\"].astype(int)\n",
    "intecno[\"Total\"] = intecno[\"Total\"].astype(int)\n"
   ]
  },
  {
   "cell_type": "code",
   "execution_count": 13,
   "metadata": {},
   "outputs": [],
   "source": [
    "ingresos = pd.read_csv(r\"Internet_Ingresos.csv\")"
   ]
  },
  {
   "cell_type": "code",
   "execution_count": 29,
   "metadata": {},
   "outputs": [
    {
     "data": {
      "text/html": [
       "<div>\n",
       "<style scoped>\n",
       "    .dataframe tbody tr th:only-of-type {\n",
       "        vertical-align: middle;\n",
       "    }\n",
       "\n",
       "    .dataframe tbody tr th {\n",
       "        vertical-align: top;\n",
       "    }\n",
       "\n",
       "    .dataframe thead th {\n",
       "        text-align: right;\n",
       "    }\n",
       "</style>\n",
       "<table border=\"1\" class=\"dataframe\">\n",
       "  <thead>\n",
       "    <tr style=\"text-align: right;\">\n",
       "      <th></th>\n",
       "      <th>Año</th>\n",
       "      <th>Trimestre</th>\n",
       "      <th>Ingresos (miles de pesos)</th>\n",
       "      <th>Periodo</th>\n",
       "    </tr>\n",
       "  </thead>\n",
       "  <tbody>\n",
       "    <tr>\n",
       "      <th>0</th>\n",
       "      <td>2022</td>\n",
       "      <td>3</td>\n",
       "      <td>67.055.930</td>\n",
       "      <td>Jul-Sept 2022</td>\n",
       "    </tr>\n",
       "    <tr>\n",
       "      <th>1</th>\n",
       "      <td>2022</td>\n",
       "      <td>2</td>\n",
       "      <td>60.335.724</td>\n",
       "      <td>Abr-Jun 2022</td>\n",
       "    </tr>\n",
       "    <tr>\n",
       "      <th>2</th>\n",
       "      <td>2022</td>\n",
       "      <td>1</td>\n",
       "      <td>55.589.997</td>\n",
       "      <td>Ene-Mar 2022</td>\n",
       "    </tr>\n",
       "    <tr>\n",
       "      <th>3</th>\n",
       "      <td>2021</td>\n",
       "      <td>4</td>\n",
       "      <td>45.467.887</td>\n",
       "      <td>Oct-Dic 2021</td>\n",
       "    </tr>\n",
       "    <tr>\n",
       "      <th>4</th>\n",
       "      <td>2021</td>\n",
       "      <td>3</td>\n",
       "      <td>42.999.944</td>\n",
       "      <td>Jul-Sept 2021</td>\n",
       "    </tr>\n",
       "  </tbody>\n",
       "</table>\n",
       "</div>"
      ],
      "text/plain": [
       "    Año  Trimestre Ingresos (miles de pesos)        Periodo\n",
       "0  2022          3                67.055.930  Jul-Sept 2022\n",
       "1  2022          2                60.335.724   Abr-Jun 2022\n",
       "2  2022          1                55.589.997   Ene-Mar 2022\n",
       "3  2021          4                45.467.887   Oct-Dic 2021\n",
       "4  2021          3                42.999.944  Jul-Sept 2021"
      ]
     },
     "execution_count": 29,
     "metadata": {},
     "output_type": "execute_result"
    }
   ],
   "source": [
    "ingresos.head(5)"
   ]
  },
  {
   "cell_type": "code",
   "execution_count": 30,
   "metadata": {},
   "outputs": [
    {
     "name": "stdout",
     "output_type": "stream",
     "text": [
      "<class 'pandas.core.frame.DataFrame'>\n",
      "RangeIndex: 35 entries, 0 to 34\n",
      "Data columns (total 4 columns):\n",
      " #   Column                     Non-Null Count  Dtype \n",
      "---  ------                     --------------  ----- \n",
      " 0   Año                        35 non-null     int64 \n",
      " 1   Trimestre                  35 non-null     int64 \n",
      " 2   Ingresos (miles de pesos)  35 non-null     object\n",
      " 3   Periodo                    35 non-null     object\n",
      "dtypes: int64(2), object(2)\n",
      "memory usage: 1.2+ KB\n"
     ]
    }
   ],
   "source": [
    "ingresos.info()"
   ]
  },
  {
   "cell_type": "code",
   "execution_count": 14,
   "metadata": {},
   "outputs": [
    {
     "name": "stderr",
     "output_type": "stream",
     "text": [
      "C:\\Users\\Rhica\\AppData\\Local\\Temp\\ipykernel_8384\\2619481737.py:1: FutureWarning: The default value of regex will change from True to False in a future version. In addition, single character regular expressions will *not* be treated as literal strings when regex=True.\n",
      "  ingresos[\"Ingresos (miles de pesos)\"] = ingresos[\"Ingresos (miles de pesos)\"].str.replace(\".\" , \"\")\n"
     ]
    }
   ],
   "source": [
    "ingresos[\"Ingresos (miles de pesos)\"] = ingresos[\"Ingresos (miles de pesos)\"].str.replace(\".\" , \"\")"
   ]
  },
  {
   "cell_type": "code",
   "execution_count": 15,
   "metadata": {},
   "outputs": [],
   "source": [
    "ingresos[\"Ingresos (miles de pesos)\"] = ingresos[\"Ingresos (miles de pesos)\"].astype(int)"
   ]
  },
  {
   "cell_type": "code",
   "execution_count": 16,
   "metadata": {},
   "outputs": [],
   "source": [
    "velocidadprom = pd.read_csv(r\"historico_velocidad_internet.csv\")"
   ]
  },
  {
   "cell_type": "code",
   "execution_count": 34,
   "metadata": {},
   "outputs": [
    {
     "data": {
      "text/html": [
       "<div>\n",
       "<style scoped>\n",
       "    .dataframe tbody tr th:only-of-type {\n",
       "        vertical-align: middle;\n",
       "    }\n",
       "\n",
       "    .dataframe tbody tr th {\n",
       "        vertical-align: top;\n",
       "    }\n",
       "\n",
       "    .dataframe thead th {\n",
       "        text-align: right;\n",
       "    }\n",
       "</style>\n",
       "<table border=\"1\" class=\"dataframe\">\n",
       "  <thead>\n",
       "    <tr style=\"text-align: right;\">\n",
       "      <th></th>\n",
       "      <th>Año</th>\n",
       "      <th>Trimestre</th>\n",
       "      <th>Provincia</th>\n",
       "      <th>Mbps (Media de bajada)</th>\n",
       "      <th>Unnamed: 4</th>\n",
       "      <th>Unnamed: 5</th>\n",
       "    </tr>\n",
       "  </thead>\n",
       "  <tbody>\n",
       "    <tr>\n",
       "      <th>0</th>\n",
       "      <td>2022</td>\n",
       "      <td>3</td>\n",
       "      <td>Buenos Aires</td>\n",
       "      <td>70</td>\n",
       "      <td>NaN</td>\n",
       "      <td>NaN</td>\n",
       "    </tr>\n",
       "    <tr>\n",
       "      <th>1</th>\n",
       "      <td>2022</td>\n",
       "      <td>3</td>\n",
       "      <td>Capital Federal</td>\n",
       "      <td>101</td>\n",
       "      <td>NaN</td>\n",
       "      <td>NaN</td>\n",
       "    </tr>\n",
       "    <tr>\n",
       "      <th>2</th>\n",
       "      <td>2022</td>\n",
       "      <td>3</td>\n",
       "      <td>Catamarca</td>\n",
       "      <td>61</td>\n",
       "      <td>NaN</td>\n",
       "      <td>NaN</td>\n",
       "    </tr>\n",
       "    <tr>\n",
       "      <th>3</th>\n",
       "      <td>2022</td>\n",
       "      <td>3</td>\n",
       "      <td>Chaco</td>\n",
       "      <td>53</td>\n",
       "      <td>NaN</td>\n",
       "      <td>NaN</td>\n",
       "    </tr>\n",
       "    <tr>\n",
       "      <th>4</th>\n",
       "      <td>2022</td>\n",
       "      <td>3</td>\n",
       "      <td>Chubut</td>\n",
       "      <td>16</td>\n",
       "      <td>NaN</td>\n",
       "      <td>NaN</td>\n",
       "    </tr>\n",
       "  </tbody>\n",
       "</table>\n",
       "</div>"
      ],
      "text/plain": [
       "    Año  Trimestre        Provincia  Mbps (Media de bajada)  Unnamed: 4  \\\n",
       "0  2022          3     Buenos Aires                      70         NaN   \n",
       "1  2022          3  Capital Federal                     101         NaN   \n",
       "2  2022          3        Catamarca                      61         NaN   \n",
       "3  2022          3            Chaco                      53         NaN   \n",
       "4  2022          3           Chubut                      16         NaN   \n",
       "\n",
       "   Unnamed: 5  \n",
       "0         NaN  \n",
       "1         NaN  \n",
       "2         NaN  \n",
       "3         NaN  \n",
       "4         NaN  "
      ]
     },
     "execution_count": 34,
     "metadata": {},
     "output_type": "execute_result"
    }
   ],
   "source": [
    "velocidadprom.head(5)"
   ]
  },
  {
   "cell_type": "code",
   "execution_count": 17,
   "metadata": {},
   "outputs": [],
   "source": [
    "acingre = pd.merge(accesx100 , ingresos , on=[\"Trimestre\" , \"Año\"])"
   ]
  },
  {
   "cell_type": "code",
   "execution_count": 19,
   "metadata": {},
   "outputs": [
    {
     "name": "stderr",
     "output_type": "stream",
     "text": [
      "C:\\Users\\Rhica\\AppData\\Local\\Temp\\ipykernel_16112\\3389074894.py:1: FutureWarning: The default value of numeric_only in DataFrame.corr is deprecated. In a future version, it will default to False. Select only valid columns or specify the value of numeric_only to silence this warning.\n",
      "  matrixcorr = acingre.corr()\n"
     ]
    },
    {
     "data": {
      "text/plain": [
       "<AxesSubplot: >"
      ]
     },
     "execution_count": 19,
     "metadata": {},
     "output_type": "execute_result"
    },
    {
     "data": {
      "image/png": "[encoded data removed]",
      "text/plain": [
       "<Figure size 640x480 with 2 Axes>"
      ]
     },
     "metadata": {},
     "output_type": "display_data"
    }
   ],
   "source": [
    "matrixcorr = acingre.corr()\n",
    "sns.heatmap(matrixcorr , cmap=\"Reds\")"
   ]
  }
 ],
 "metadata": {
  "kernelspec": {
   "display_name": "Python 3.10.6 64-bit",
   "language": "python",
   "name": "python3"
  },
  "language_info": {
   "codemirror_mode": {
    "name": "ipython",
    "version": 3
   },
   "file_extension": ".py",
   "mimetype": "text/x-python",
   "name": "python",
   "nbconvert_exporter": "python",
   "pygments_lexer": "ipython3",
   "version": "3.10.6"
  },
  "orig_nbformat": 4,
  "vscode": {
   "interpreter": {
    "hash": "9ead07ceca65dd8dffbd2a2bdb08dfdc387d4694473972acdac0b001edaf20ef"
   }
  }
 },
 "nbformat": 4,
 "nbformat_minor": 2
}
